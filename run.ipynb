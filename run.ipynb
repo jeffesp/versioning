{
 "cells": [
  {
   "cell_type": "markdown",
   "metadata": {},
   "source": [
    "The first cell below must be run to do all the setup for what comes next."
   ]
  },
  {
   "cell_type": "code",
   "execution_count": 59,
   "metadata": {},
   "outputs": [],
   "source": [
    "import docker\n",
    "import kubernetes\n",
    "import requests\n",
    "import os\n",
    "import subprocess\n",
    "import time\n",
    "\n",
    "session = requests.Session()\n",
    "session.headers.update({'x-tyk-authorization': 'stuff'})\n",
    "\n",
    "tyk_namespace = 'tyk'\n",
    "service_namespace = 'http-jokes'\n",
    "\n",
    "def cleanup_apis(requests_session):\n",
    "    for api in requests_session.get(\"http://localhost:8080/tyk/apis/\").json():\n",
    "        print(api['api_id'])\n",
    "        print(requests_session.delete(\"http://localhost:8080/tyk/apis/\" + api['api_id']).text)\n",
    "    requests_session.get('http://localhost:8080/tyk/reload/group').text\n",
    "\n",
    "def define_api(openapi_file, requests_session):\n",
    "    with open(openapi_file, 'r') as f:\n",
    "        api_definition = f.read()\n",
    "    response = requests_session.post(\"http://localhost:8080/tyk/apis/oas/import\", data=api_definition)\n",
    "    print(response.json())\n",
    "    requests_session.get('http://localhost:8080/tyk/reload/group').text\n",
    "\n",
    "def build_api_image():\n",
    "    version = '1.0.0' # TODO: read from pyproject.toml\n",
    "    client = docker.from_env()\n",
    "    image, _ = client.images.build(path='.', tag=f'http-jokes:{version}', rm=True)\n",
    "    image.tag(f'localhost:5001/http-jokes:{version}')\n",
    "    client.images.push(f'localhost:5001/http-jokes:{version}')\n",
    "\n",
    "def install_tyk():\n",
    "    client, config = kubernetes.client, kubernetes.config\n",
    "    config.load_kube_config()\n",
    "    k8s = client.CoreV1Api()\n",
    "\n",
    "    create_k8s_namespace(client, k8s, tyk_namespace)\n",
    "\n",
    "    try:\n",
    "        k8s.read_namespaced_config_map('tyk-secret', namespace=tyk_namespace)\n",
    "    except kubernetes.client.rest.ApiException:\n",
    "        cmap = client.V1ConfigMap()\n",
    "        cmap.metadata = client.V1ObjectMeta(name='tyk-secret')\n",
    "        cmap.data = {'APISecret': 'stuff'}\n",
    "        k8s.create_namespaced_config_map(namespace=tyk_namespace, body=cmap)\n",
    "\n",
    "    os.system(f'helm upgrade tyk-redis oci://registry-1.docker.io/bitnamicharts/redis -n {tyk_namespace} --install --version 19.0.2 --set replica.replicaCount=1 --wait')\n",
    "    os.system(f'helm upgrade tyk-oss tyk-helm/tyk-oss -n {tyk_namespace} --install -f tyk-values.yaml --wait')\n",
    "\n",
    "def create_k8s_namespace(client, k8s, namespace):\n",
    "    try:\n",
    "        ns = k8s.read_namespace(namespace)\n",
    "    except kubernetes.client.rest.ApiException:\n",
    "        # create namespace\n",
    "        ns = client.V1Namespace(metadata=client.V1ObjectMeta(name=namespace))\n",
    "        k8s.create_namespace(ns)\n",
    "    return ns\n",
    "\n",
    "def kill_namespace(client, k8s, namespace):\n",
    "    try:\n",
    "        k8s.delete_namespace(namespace, body=client.V1DeleteOptions(name=namespace), grace_period_seconds=0, force=True)\n",
    "    except kubernetes.client.rest.ApiException:\n",
    "        pass"
   ]
  },
  {
   "cell_type": "markdown",
   "metadata": {},
   "source": [
    "The process starts with installing and running Tyk. Uncomment the `install_tyk()` line if you do not have it running. This uses the 'hello' endpoint in Tyk to make sure that it is running. If you do not see a line like the following, then something is not configured properly.\n",
    "\n",
    "```\n",
    "{'status': 'pass', 'version': '5.5.0', 'description': 'Tyk GW', 'details': {'redis': {'status': 'pass', 'componentType': 'datastore', 'time': '2024-09-26T19:57:37Z'}}}\n",
    "```"
   ]
  },
  {
   "cell_type": "code",
   "execution_count": 63,
   "metadata": {},
   "outputs": [
    {
     "name": "stdout",
     "output_type": "stream",
     "text": [
      "Forwarding from 127.0.0.1:8080 -> 8080\n",
      "Forwarding from [::1]:8080 -> 8080\n",
      "Handling connection for 8080\n",
      "{'status': 'pass', 'version': '5.5.0', 'description': 'Tyk GW', 'details': {'redis': {'status': 'pass', 'componentType': 'datastore', 'time': '2024-09-26T20:46:37Z'}}}\n"
     ]
    }
   ],
   "source": [
    "# if needed, run this cell to get tyk up and running\n",
    "#install_tyk()\n",
    "port_fwd = subprocess.Popen(['kubectl', '-n', tyk_namespace, 'port-forward', 'svc/gateway-svc-tyk-oss-tyk-gateway', '8080:8080'])\n",
    "time.sleep(1)\n",
    "print(requests.get('http://localhost:8080/hello').json())"
   ]
  },
  {
   "cell_type": "markdown",
   "metadata": {},
   "source": [
    "The next block builds a docker image of the Jokes service code in `api/main.py` and then pushes it to a local registry. It then deploys that container to your k8s instance and registers the service with Tyk. That will generate some output that looks like:\n",
    "```\n",
    "{'key': 'ba1b323912a8468b90a69811c937afcf', 'status': 'ok', 'action': 'added'}\n",
    "```\n",
    "Finally, we make a request to Tyk that is proxied to the service. The final output from the cell will be a response from the Jokes service. That should look like the following:\n",
    "```\n",
    "{'value': 'Hey, funny thing... this HTTP stuff does work...'}\n",
    "```"
   ]
  },
  {
   "cell_type": "code",
   "execution_count": 66,
   "metadata": {},
   "outputs": [
    {
     "name": "stdout",
     "output_type": "stream",
     "text": [
      "service/http-jokes unchanged\n",
      "deployment.apps/http-jokes-service unchanged\n",
      "Handling connection for 8080\n",
      "{'key': 'b34132a4e39b4b6fb5a95e5f7058811d', 'status': 'ok', 'action': 'added'}\n",
      "Handling connection for 8080\n"
     ]
    },
    {
     "data": {
      "text/plain": [
       "{'value': 'Hey, funny thing... this HTTP stuff does work...'}"
      ]
     },
     "execution_count": 66,
     "metadata": {},
     "output_type": "execute_result"
    }
   ],
   "source": [
    "client, config = kubernetes.client, kubernetes.config\n",
    "config.load_kube_config()\n",
    "k8s = client.CoreV1Api()\n",
    "\n",
    "create_k8s_namespace(client, k8s, service_namespace)\n",
    "build_api_image()\n",
    "os.system(f'kubectl -n {service_namespace} apply -f app-deploy.yaml')\n",
    "define_api('openapi-v1.json', session)\n",
    "\n",
    "# get proxied joke\n",
    "requests.get('http://localhost:8080/tell/joke').json()"
   ]
  },
  {
   "cell_type": "markdown",
   "metadata": {},
   "source": [
    "The last cell just cleans things up. If you also want to stop Tyk, uncomment the last two lines."
   ]
  },
  {
   "cell_type": "code",
   "execution_count": 62,
   "metadata": {},
   "outputs": [
    {
     "name": "stdout",
     "output_type": "stream",
     "text": [
      "cd467cdb104349368e709b5003ba6580\n",
      "{\"key\":\"cd467cdb104349368e709b5003ba6580\",\"status\":\"ok\",\"action\":\"deleted\"}\n",
      "\n"
     ]
    }
   ],
   "source": [
    "kill_namespace(service_namespace)\n",
    "cleanup_apis(session)\n",
    "port_fwd.kill()\n",
    "# os.system(f'helm uninstall -n {tyk_namespace} tyk-oss')\n",
    "# kill_namespace(tyk_namespace)"
   ]
  }
 ],
 "metadata": {
  "kernelspec": {
   "display_name": "versioning-agTkvMhD-py3.12",
   "language": "python",
   "name": "python3"
  },
  "language_info": {
   "codemirror_mode": {
    "name": "ipython",
    "version": 3
   },
   "file_extension": ".py",
   "mimetype": "text/x-python",
   "name": "python",
   "nbconvert_exporter": "python",
   "pygments_lexer": "ipython3",
   "version": "3.12.6"
  }
 },
 "nbformat": 4,
 "nbformat_minor": 2
}
