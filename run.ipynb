{
 "cells": [
  {
   "cell_type": "markdown",
   "metadata": {},
   "source": [
    "## API Versioning with Tyk\n",
    "This sample is intended to show how a service can migrate from one version to the next and be proxied through Tyk. The service will have multiple versions, and Tyk will also have multiple versions. Tyk represents what will become our new public API. The service in this case is an HTTP version of the [Jokes Service](https://github.com/datarobot/jokes-service/). \n",
    "\n",
    "There will be three different versions of the service that are run:\n",
    "- v1.0 has one operation: GET /tell/joke.\n",
    "- v2.0 adds an operation: POST /tell/joke\n",
    "\n",
    "These will be fronted by Tyk, where it will accept a version header. The first version will be v5.8.0, then the next will be v6.0.0. These correspond with the different versions of the backing HTTP service (v1 and 2). Both APIs will be active at one time, but have some differences that make them incompatible."
   ]
  },
  {
   "cell_type": "code",
   "execution_count": 6,
   "metadata": {},
   "outputs": [],
   "source": [
    "# ATTENTION: this is all just setup code. None of it really matters in terms of what we are doing with Tyk, with the exception of the `define_api` function.\n",
    "import docker\n",
    "import kubernetes\n",
    "import requests\n",
    "import os\n",
    "import subprocess\n",
    "import time\n",
    "\n",
    "session = requests.Session()\n",
    "session.headers.update({'x-tyk-authorization': 'stuff'})\n",
    "\n",
    "tyk_namespace = 'tyk'\n",
    "service_namespace = 'http-jokes'\n",
    "\n",
    "def cleanup_apis(requests_session):\n",
    "    for api in requests_session.get(\"http://localhost:8080/tyk/apis/\").json():\n",
    "        print(api['api_id'])\n",
    "        print(requests_session.delete(\"http://localhost:8080/tyk/apis/\" + api['api_id']).text)\n",
    "    requests_session.get('http://localhost:8080/tyk/reload/group').text\n",
    "\n",
    "\n",
    "def define_api(openapi_file, requests_session, api_id=None):\n",
    "    with open(openapi_file, 'r') as f:\n",
    "        api_definition = f.read()\n",
    "    if api_id:\n",
    "        response = requests_session.put(f\"http://localhost:8080/tyk/apis/oas/{api_id}\", data=api_definition)\n",
    "    else:\n",
    "        response = requests_session.post(\"http://localhost:8080/tyk/apis/oas\", data=api_definition)\n",
    "    out = response.json()\n",
    "    display(out)\n",
    "    display(requests_session.get('http://localhost:8080/tyk/reload/group').text)\n",
    "    return out.get('key')\n",
    "\n",
    "def install_tyk():\n",
    "    client, config = kubernetes.client, kubernetes.config\n",
    "    config.load_kube_config()\n",
    "    k8s = client.CoreV1Api()\n",
    "\n",
    "    create_k8s_namespace(client, k8s, tyk_namespace)\n",
    "\n",
    "    try:\n",
    "        k8s.read_namespaced_config_map('tyk-secret', namespace=tyk_namespace)\n",
    "    except kubernetes.client.rest.ApiException:\n",
    "        cmap = client.V1ConfigMap()\n",
    "        cmap.metadata = client.V1ObjectMeta(name='tyk-secret')\n",
    "        cmap.data = {'APISecret': 'stuff'}\n",
    "        k8s.create_namespaced_config_map(namespace=tyk_namespace, body=cmap)\n",
    "\n",
    "    os.system(f'helm upgrade tyk-redis oci://registry-1.docker.io/bitnamicharts/redis -n {tyk_namespace} --install --version 19.0.2 --set replica.replicaCount=1 --wait')\n",
    "    os.system(f'helm upgrade tyk-oss tyk-helm/tyk-oss -n {tyk_namespace} --install -f tyk-values.yaml --wait')\n",
    "\n",
    "\n",
    "def setup_service():\n",
    "    # first build the image, then run it in k8s\n",
    "    dckr = docker.from_env()\n",
    "    image, _ = dckr.images.build(path='.', tag=f'http-jokes:2.0', rm=True)\n",
    "    image.tag(f'localhost:5001/http-jokes:latest')\n",
    "    dckr.images.push(f'localhost:5001/http-jokes:latest')\n",
    "\n",
    "    client, config = kubernetes.client, kubernetes.config\n",
    "    config.load_kube_config()\n",
    "    k8s = client.CoreV1Api()\n",
    "    create_k8s_namespace(client, k8s, service_namespace)\n",
    "    os.system(f'kubectl -n {service_namespace} apply -f app-deploy.yaml')\n",
    "\n",
    "\n",
    "def create_k8s_namespace(client, k8s, namespace):\n",
    "    try:\n",
    "        ns = k8s.read_namespace(namespace)\n",
    "    except kubernetes.client.rest.ApiException:\n",
    "        # create namespace\n",
    "        ns = client.V1Namespace(metadata=client.V1ObjectMeta(name=namespace))\n",
    "        k8s.create_namespace(ns)\n",
    "    return ns\n",
    "\n",
    "\n",
    "def kill_namespace(namespace):\n",
    "    client, config = kubernetes.client, kubernetes.config\n",
    "    config.load_kube_config()\n",
    "    k8s = client.CoreV1Api()\n",
    "    try:\n",
    "        k8s.delete_namespace(namespace, grace_period_seconds=0)\n",
    "    except kubernetes.client.rest.ApiException:\n",
    "        pass"
   ]
  },
  {
   "cell_type": "markdown",
   "metadata": {},
   "source": [
    "### Running Tyk, Building the Service\n",
    "The process starts with installing and running Tyk. Uncomment the `install_tyk()` line if you do not have it running. \n",
    "\n",
    "This uses the 'hello' endpoint in Tyk to make sure that it is running. If you do not see a line like the following, then something is not configured properly.\n",
    "\n",
    "```\n",
    "{'status': 'pass', 'version': '5.5.0', 'description': 'Tyk GW', 'details': {'redis': {'status': 'pass', 'componentType': 'datastore', 'time': '2024-09-26T19:57:37Z'}}}\n",
    "```"
   ]
  },
  {
   "cell_type": "code",
   "execution_count": 7,
   "metadata": {},
   "outputs": [
    {
     "name": "stdout",
     "output_type": "stream",
     "text": [
      "service/http-jokes created\n",
      "deployment.apps/http-jokes-service created\n",
      "Forwarding from 127.0.0.1:8080 -> 8080\n",
      "Forwarding from [::1]:8080 -> 8080\n",
      "Handling connection for 8080\n"
     ]
    },
    {
     "data": {
      "text/plain": [
       "{'status': 'pass',\n",
       " 'version': '5.5.0',\n",
       " 'description': 'Tyk GW',\n",
       " 'details': {'redis': {'status': 'pass',\n",
       "   'componentType': 'datastore',\n",
       "   'time': '2024-09-27T18:12:21Z'}}}"
      ]
     },
     "metadata": {},
     "output_type": "display_data"
    }
   ],
   "source": [
    "# if needed, run this cell to get tyk up and running\n",
    "#install_tyk()\n",
    "setup_service()\n",
    "\n",
    "# would be nice to check if this is alreay running from another place somehow.\n",
    "port_fwd = subprocess.Popen(['kubectl', '-n', tyk_namespace, 'port-forward', 'svc/gateway-svc-tyk-oss-tyk-gateway', '8080:8080'])\n",
    "time.sleep(1)\n",
    "display(session.get('http://localhost:8080/hello').json())"
   ]
  },
  {
   "cell_type": "markdown",
   "metadata": {},
   "source": [
    "### Version 1.0\n",
    "The next block builds a docker image of the Jokes service code in `api/main.py` and then pushes it to a local registry. It then deploys that container to your k8s instance and registers the service with Tyk. That will generate some output that looks like:\n",
    "```\n",
    "{'key': 'ba1b323912a8468b90a69811c937afcf', 'status': 'ok', 'action': 'added'}\n",
    "```\n",
    "Finally, we make a request to Tyk that is proxied to the service. The final output from the cell will be a response from the Jokes service. That should look like the following:\n",
    "```\n",
    "{'value': 'Hey, funny thing... this HTTP stuff does work...'}\n",
    "```"
   ]
  },
  {
   "cell_type": "code",
   "execution_count": 10,
   "metadata": {},
   "outputs": [
    {
     "name": "stdout",
     "output_type": "stream",
     "text": [
      "2bcde6bf32f8460f8587098eb719fadf\n",
      "{\"key\":\"2bcde6bf32f8460f8587098eb719fadf\",\"status\":\"ok\",\"action\":\"deleted\"}\n",
      "\n",
      "47c9e295f1d247fba4c53d76c71eae1d\n",
      "{\"key\":\"47c9e295f1d247fba4c53d76c71eae1d\",\"status\":\"ok\",\"action\":\"deleted\"}\n",
      "\n"
     ]
    },
    {
     "data": {
      "text/plain": [
       "{'key': 'e4a128ab59374988a057fa3e5c34ffec', 'status': 'ok', 'action': 'added'}"
      ]
     },
     "metadata": {},
     "output_type": "display_data"
    },
    {
     "data": {
      "text/plain": [
       "'{\"status\":\"ok\",\"message\":\"\"}\\n'"
      ]
     },
     "metadata": {},
     "output_type": "display_data"
    },
    {
     "name": "stdout",
     "output_type": "stream",
     "text": [
      "Handling connection for 8080\n"
     ]
    },
    {
     "data": {
      "text/plain": [
       "{'value': 'Hey, funny thing... this HTTP stuff does work...'}"
      ]
     },
     "metadata": {},
     "output_type": "display_data"
    }
   ],
   "source": [
    "cleanup_apis(session)\n",
    "base_api_id = define_api('openapi-v1.json', session)\n",
    "time.sleep(1)\n",
    "# get proxied joke\n",
    "display(requests.get('http://localhost:8080/jokes/tell/joke', headers={ 'x-api-version': 'v5.8.0'}).json())"
   ]
  },
  {
   "cell_type": "markdown",
   "metadata": {},
   "source": [
    "### Version 2.0 \n",
    "Now we deploy the next version of the service, which is a major version bump to 6.0 for the external API, and 2.0 for the internal API. It adds a way to get the joke with a POST request, and we pass in a `joke_type` to get different output from the service. It should display the same output as the previous instance. There is also a request with to the GET endpoint to illustrate that it also runs with the version 1.1 of the service. The final request is a POST but using v5.8, which should prevent that operation from running."
   ]
  },
  {
   "cell_type": "code",
   "execution_count": 11,
   "metadata": {},
   "outputs": [
    {
     "data": {
      "text/plain": [
       "{'value': \"Who's there? Must be a service_registry user?\"}"
      ]
     },
     "metadata": {},
     "output_type": "display_data"
    },
    {
     "name": "stdout",
     "output_type": "stream",
     "text": [
      "Handling connection for 8080\n"
     ]
    },
    {
     "data": {
      "text/plain": [
       "{'value': 'Hey, funny thing... this HTTP stuff does work...'}"
      ]
     },
     "metadata": {},
     "output_type": "display_data"
    },
    {
     "name": "stdout",
     "output_type": "stream",
     "text": [
      "Handling connection for 8080\n"
     ]
    },
    {
     "data": {
      "text/plain": [
       "{'detail': 'Method Not Allowed'}"
      ]
     },
     "metadata": {},
     "output_type": "display_data"
    }
   ],
   "source": [
    "def version_api(base_api_id, openapi_file, requests_session):\n",
    "    with open(openapi_file, 'r') as f:\n",
    "        api_definition = f.read()\n",
    "    response = requests_session.post(\"http://localhost:8080/tyk/apis/oas\", data=api_definition, params={'base_api_id': base_api_id, 'base_api_version_name': 'v5.8.0', 'new_version_name': 'v6.0.0', 'set_default': 'false'})\n",
    "    response.raise_for_status()\n",
    "    child_api_id = response.json().get('key')\n",
    "    display(child_api_id)\n",
    "    display(requests_session.get('http://localhost:8080/tyk/reload/group').text)\n",
    "    return child_api_id\n",
    "\n",
    "v1_1_api_id = version_api(base_api_id, 'openapi-v2.0.json', session)\n",
    "time.sleep(1)\n",
    "\n",
    "# post to get proxied joke (terrible pattern, but just a demo)\n",
    "display(requests.post('http://localhost:8080/jokes/tell/joke', json={'joke_type': 2}, headers={'x-api-version': 'v6.0.0'},).json(), clear=True)\n",
    "display(requests.get('http://localhost:8080/jokes/tell/joke', headers={ 'x-api-version': 'v6.0.0'}).json())\n",
    "\n",
    "# when trying to POST to the old version, we get Method Not Allowed\n",
    "display(requests.post('http://localhost:8080/jokes/tell/joke', json={'joke_type': 2}, headers={'x-api-version': 'v5.8.0'},).json())\n"
   ]
  },
  {
   "cell_type": "markdown",
   "metadata": {},
   "source": [
    "### Cleanup\n",
    "\n",
    "The last cell just cleans things up. If you also want to cleanup Tyk, uncomment the last two lines."
   ]
  },
  {
   "cell_type": "code",
   "execution_count": 5,
   "metadata": {},
   "outputs": [
    {
     "name": "stdout",
     "output_type": "stream",
     "text": [
      "df08c1da15a340eaa823227e92d8b5be\n",
      "{\"key\":\"df08c1da15a340eaa823227e92d8b5be\",\"status\":\"ok\",\"action\":\"deleted\"}\n",
      "\n",
      "0c89b52b95404436b4e3eff1f9700092\n",
      "{\"key\":\"0c89b52b95404436b4e3eff1f9700092\",\"status\":\"ok\",\"action\":\"deleted\"}\n",
      "\n"
     ]
    }
   ],
   "source": [
    "kill_namespace(service_namespace)\n",
    "cleanup_apis(session)\n",
    "port_fwd.kill()\n",
    "# os.system(f'helm uninstall -n {tyk_namespace} tyk-oss')\n",
    "# kill_namespace(tyk_namespace)"
   ]
  }
 ],
 "metadata": {
  "kernelspec": {
   "display_name": "versioning-agTkvMhD-py3.12",
   "language": "python",
   "name": "python3"
  },
  "language_info": {
   "codemirror_mode": {
    "name": "ipython",
    "version": 3
   },
   "file_extension": ".py",
   "mimetype": "text/x-python",
   "name": "python",
   "nbconvert_exporter": "python",
   "pygments_lexer": "ipython3",
   "version": "3.12.6"
  }
 },
 "nbformat": 4,
 "nbformat_minor": 2
}
